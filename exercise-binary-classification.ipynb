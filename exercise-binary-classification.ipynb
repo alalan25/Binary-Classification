{
 "cells": [
  {
   "cell_type": "markdown",
   "metadata": {
    "papermill": {
     "duration": 0.010168,
     "end_time": "2021-02-13T21:42:20.548903",
     "exception": false,
     "start_time": "2021-02-13T21:42:20.538735",
     "status": "completed"
    },
    "tags": []
   },
   "source": [
    "**This notebook is an exercise in the [Intro to Deep Learning](https://www.kaggle.com/learn/intro-to-deep-learning) course.  You can reference the tutorial at [this link](https://www.kaggle.com/ryanholbrook/binary-classification).**\n",
    "\n",
    "---\n"
   ]
  },
  {
   "cell_type": "markdown",
   "metadata": {
    "papermill": {
     "duration": 0.00857,
     "end_time": "2021-02-13T21:42:20.566812",
     "exception": false,
     "start_time": "2021-02-13T21:42:20.558242",
     "status": "completed"
    },
    "tags": []
   },
   "source": [
    "# Introduction #\n",
    "\n",
    "In this exercise, you'll build a model to predict hotel cancellations with a binary classifier."
   ]
  },
  {
   "cell_type": "code",
   "execution_count": 1,
   "metadata": {
    "execution": {
     "iopub.execute_input": "2021-02-13T21:42:20.589466Z",
     "iopub.status.busy": "2021-02-13T21:42:20.588503Z",
     "iopub.status.idle": "2021-02-13T21:42:20.639967Z",
     "shell.execute_reply": "2021-02-13T21:42:20.639273Z"
    },
    "lines_to_next_cell": 0,
    "papermill": {
     "duration": 0.064376,
     "end_time": "2021-02-13T21:42:20.640190",
     "exception": false,
     "start_time": "2021-02-13T21:42:20.575814",
     "status": "completed"
    },
    "tags": []
   },
   "outputs": [],
   "source": [
    "# Setup plotting\n",
    "import matplotlib.pyplot as plt\n",
    "plt.style.use('seaborn-whitegrid')\n",
    "# Set Matplotlib defaults\n",
    "plt.rc('figure', autolayout=True)\n",
    "plt.rc('axes', labelweight='bold', labelsize='large',\n",
    "       titleweight='bold', titlesize=18, titlepad=10)\n",
    "plt.rc('animation', html='html5')\n",
    "\n",
    "# Setup feedback system\n",
    "from learntools.core import binder\n",
    "binder.bind(globals())\n",
    "from learntools.deep_learning_intro.ex6 import *"
   ]
  },
  {
   "cell_type": "markdown",
   "metadata": {
    "papermill": {
     "duration": 0.008845,
     "end_time": "2021-02-13T21:42:20.658533",
     "exception": false,
     "start_time": "2021-02-13T21:42:20.649688",
     "status": "completed"
    },
    "tags": []
   },
   "source": [
    "First, load the *Hotel Cancellations* dataset."
   ]
  },
  {
   "cell_type": "code",
   "execution_count": 2,
   "metadata": {
    "execution": {
     "iopub.execute_input": "2021-02-13T21:42:20.680219Z",
     "iopub.status.busy": "2021-02-13T21:42:20.679448Z",
     "iopub.status.idle": "2021-02-13T21:42:23.512428Z",
     "shell.execute_reply": "2021-02-13T21:42:23.512941Z"
    },
    "lines_to_next_cell": 2,
    "papermill": {
     "duration": 2.845533,
     "end_time": "2021-02-13T21:42:23.513154",
     "exception": false,
     "start_time": "2021-02-13T21:42:20.667621",
     "status": "completed"
    },
    "tags": []
   },
   "outputs": [],
   "source": [
    "import pandas as pd\n",
    "\n",
    "from sklearn.model_selection import train_test_split\n",
    "from sklearn.preprocessing import StandardScaler, OneHotEncoder\n",
    "from sklearn.impute import SimpleImputer\n",
    "from sklearn.pipeline import make_pipeline\n",
    "from sklearn.compose import make_column_transformer\n",
    "\n",
    "hotel = pd.read_csv('../input/dl-course-data/hotel.csv')\n",
    "\n",
    "X = hotel.copy()\n",
    "y = X.pop('is_canceled')\n",
    "\n",
    "X['arrival_date_month'] = \\\n",
    "    X['arrival_date_month'].map(\n",
    "        {'January':1, 'February': 2, 'March':3,\n",
    "         'April':4, 'May':5, 'June':6, 'July':7,\n",
    "         'August':8, 'September':9, 'October':10,\n",
    "         'November':11, 'December':12}\n",
    "    )\n",
    "\n",
    "features_num = [\n",
    "    \"lead_time\", \"arrival_date_week_number\",\n",
    "    \"arrival_date_day_of_month\", \"stays_in_weekend_nights\",\n",
    "    \"stays_in_week_nights\", \"adults\", \"children\", \"babies\",\n",
    "    \"is_repeated_guest\", \"previous_cancellations\",\n",
    "    \"previous_bookings_not_canceled\", \"required_car_parking_spaces\",\n",
    "    \"total_of_special_requests\", \"adr\",\n",
    "]\n",
    "features_cat = [\n",
    "    \"hotel\", \"arrival_date_month\", \"meal\",\n",
    "    \"market_segment\", \"distribution_channel\",\n",
    "    \"reserved_room_type\", \"deposit_type\", \"customer_type\",\n",
    "]\n",
    "\n",
    "transformer_num = make_pipeline(\n",
    "    SimpleImputer(strategy=\"constant\"), # there are a few missing values\n",
    "    StandardScaler(),\n",
    ")\n",
    "transformer_cat = make_pipeline(\n",
    "    SimpleImputer(strategy=\"constant\", fill_value=\"NA\"),\n",
    "    OneHotEncoder(handle_unknown='ignore'),\n",
    ")\n",
    "\n",
    "preprocessor = make_column_transformer(\n",
    "    (transformer_num, features_num),\n",
    "    (transformer_cat, features_cat),\n",
    ")\n",
    "\n",
    "# stratify - make sure classes are evenlly represented across splits\n",
    "X_train, X_valid, y_train, y_valid = \\\n",
    "    train_test_split(X, y, stratify=y, train_size=0.75)\n",
    "\n",
    "X_train = preprocessor.fit_transform(X_train)\n",
    "X_valid = preprocessor.transform(X_valid)\n",
    "\n",
    "input_shape = [X_train.shape[1]]"
   ]
  },
  {
   "cell_type": "markdown",
   "metadata": {
    "papermill": {
     "duration": 0.00927,
     "end_time": "2021-02-13T21:42:23.532000",
     "exception": false,
     "start_time": "2021-02-13T21:42:23.522730",
     "status": "completed"
    },
    "tags": []
   },
   "source": [
    "# 1) Define Model #\n",
    "\n",
    "The model we'll use this time will have both batch normalization and dropout layers. To ease reading we've broken the diagram into blocks, but you can define it layer by layer as usual.\n",
    "\n",
    "Define a model with an architecture given by this diagram:\n",
    "\n",
    "<figure style=\"padding: 1em;\">\n",
    "<img src=\"https://i.imgur.com/V04o59Z.png\" width=\"400\" alt=\"Diagram of network architecture: BatchNorm, Dense, BatchNorm, Dropout, Dense, BatchNorm, Dropout, Dense.\">\n",
    "<figcaption style=\"textalign: center; font-style: italic\"><center>Diagram of a binary classifier.</center></figcaption>\n",
    "</figure>\n"
   ]
  },
  {
   "cell_type": "code",
   "execution_count": 3,
   "metadata": {
    "execution": {
     "iopub.execute_input": "2021-02-13T21:42:23.554140Z",
     "iopub.status.busy": "2021-02-13T21:42:23.553413Z",
     "iopub.status.idle": "2021-02-13T21:42:29.775025Z",
     "shell.execute_reply": "2021-02-13T21:42:29.775546Z"
    },
    "lines_to_next_cell": 2,
    "papermill": {
     "duration": 6.234339,
     "end_time": "2021-02-13T21:42:29.775733",
     "exception": false,
     "start_time": "2021-02-13T21:42:23.541394",
     "status": "completed"
    },
    "tags": []
   },
   "outputs": [
    {
     "data": {
      "application/javascript": [
       "parent.postMessage({\"jupyterEvent\": \"custom.exercise_interaction\", \"data\": {\"outcomeType\": 1, \"valueTowardsCompletion\": 0.3333333333333333, \"interactionType\": 1, \"questionType\": 2, \"questionId\": \"1_Q1\", \"learnToolsVersion\": \"0.3.4\", \"failureMessage\": \"\", \"exceptionClass\": \"\", \"trace\": \"\"}}, \"*\")"
      ],
      "text/plain": [
       "<IPython.core.display.Javascript object>"
      ]
     },
     "metadata": {},
     "output_type": "display_data"
    },
    {
     "data": {
      "text/markdown": [
       "<span style=\"color:#33cc33\">Correct</span>"
      ],
      "text/plain": [
       "Correct"
      ]
     },
     "metadata": {},
     "output_type": "display_data"
    }
   ],
   "source": [
    "from tensorflow import keras\n",
    "from tensorflow.keras import layers\n",
    "\n",
    "# YOUR CODE HERE: define the model given in the diagram\n",
    "model = keras.Sequential([\n",
    "    layers.BatchNormalization(input_shape = input_shape),\n",
    "    layers.Dense(256, activation = 'relu'),\n",
    "    layers.BatchNormalization(),\n",
    "    layers.Dropout(0.3),\n",
    "    layers.Dense(256, activation = 'relu'),\n",
    "    layers.BatchNormalization(),\n",
    "    layers.Dropout(0.3),\n",
    "    layers.Dense(1, activation = 'sigmoid'),\n",
    "    \n",
    "])\n",
    "\n",
    "# Check your answer\n",
    "q_1.check()"
   ]
  },
  {
   "cell_type": "markdown",
   "metadata": {
    "papermill": {
     "duration": 0.010861,
     "end_time": "2021-02-13T21:42:29.797621",
     "exception": false,
     "start_time": "2021-02-13T21:42:29.786760",
     "status": "completed"
    },
    "tags": []
   },
   "source": [
    "# 2) Add Optimizer, Loss, and Metric #\n",
    "\n",
    "Now compile the model with the Adam optimizer and binary versions of the cross-entropy loss and accuracy metric."
   ]
  },
  {
   "cell_type": "code",
   "execution_count": 4,
   "metadata": {
    "execution": {
     "iopub.execute_input": "2021-02-13T21:42:29.832089Z",
     "iopub.status.busy": "2021-02-13T21:42:29.824548Z",
     "iopub.status.idle": "2021-02-13T21:42:29.843700Z",
     "shell.execute_reply": "2021-02-13T21:42:29.843080Z"
    },
    "lines_to_next_cell": 0,
    "papermill": {
     "duration": 0.035493,
     "end_time": "2021-02-13T21:42:29.843854",
     "exception": false,
     "start_time": "2021-02-13T21:42:29.808361",
     "status": "completed"
    },
    "tags": []
   },
   "outputs": [
    {
     "data": {
      "application/javascript": [
       "parent.postMessage({\"jupyterEvent\": \"custom.exercise_interaction\", \"data\": {\"outcomeType\": 1, \"valueTowardsCompletion\": 0.3333333333333333, \"interactionType\": 1, \"questionType\": 2, \"questionId\": \"2_Q2\", \"learnToolsVersion\": \"0.3.4\", \"failureMessage\": \"\", \"exceptionClass\": \"\", \"trace\": \"\"}}, \"*\")"
      ],
      "text/plain": [
       "<IPython.core.display.Javascript object>"
      ]
     },
     "metadata": {},
     "output_type": "display_data"
    },
    {
     "data": {
      "text/markdown": [
       "<span style=\"color:#33cc33\">Correct</span>"
      ],
      "text/plain": [
       "Correct"
      ]
     },
     "metadata": {},
     "output_type": "display_data"
    }
   ],
   "source": [
    "# YOUR CODE HERE\n",
    "model.compile(\n",
    "    optimizer = 'adam',\n",
    "    loss = 'binary_crossentropy',\n",
    "    metrics = ['binary_accuracy'],\n",
    ")\n",
    "\n",
    "# Check your answer\n",
    "q_2.check()"
   ]
  },
  {
   "cell_type": "code",
   "execution_count": 5,
   "metadata": {
    "execution": {
     "iopub.execute_input": "2021-02-13T21:42:29.871770Z",
     "iopub.status.busy": "2021-02-13T21:42:29.871109Z",
     "iopub.status.idle": "2021-02-13T21:42:29.874813Z",
     "shell.execute_reply": "2021-02-13T21:42:29.874192Z"
    },
    "lines_to_next_cell": 0,
    "papermill": {
     "duration": 0.019467,
     "end_time": "2021-02-13T21:42:29.874954",
     "exception": false,
     "start_time": "2021-02-13T21:42:29.855487",
     "status": "completed"
    },
    "tags": []
   },
   "outputs": [],
   "source": [
    "# Lines below will give you a hint or solution code\n",
    "#q_2.hint()\n",
    "#q_2.solution()"
   ]
  },
  {
   "cell_type": "markdown",
   "metadata": {
    "papermill": {
     "duration": 0.011606,
     "end_time": "2021-02-13T21:42:29.898627",
     "exception": false,
     "start_time": "2021-02-13T21:42:29.887021",
     "status": "completed"
    },
    "tags": []
   },
   "source": [
    "Finally, run this cell to train the model and view the learning curves. It may run for around 60 to 70 epochs, which could take a minute or two."
   ]
  },
  {
   "cell_type": "code",
   "execution_count": 6,
   "metadata": {
    "execution": {
     "iopub.execute_input": "2021-02-13T21:42:29.930416Z",
     "iopub.status.busy": "2021-02-13T21:42:29.929697Z",
     "iopub.status.idle": "2021-02-13T21:43:59.432792Z",
     "shell.execute_reply": "2021-02-13T21:43:59.433510Z"
    },
    "papermill": {
     "duration": 89.52281,
     "end_time": "2021-02-13T21:43:59.433696",
     "exception": false,
     "start_time": "2021-02-13T21:42:29.910886",
     "status": "completed"
    },
    "tags": []
   },
   "outputs": [
    {
     "name": "stdout",
     "output_type": "stream",
     "text": [
      "Epoch 1/200\n",
      "175/175 [==============================] - 4s 19ms/step - loss: 0.5430 - binary_accuracy: 0.7367 - val_loss: 0.4384 - val_binary_accuracy: 0.8070\n",
      "Epoch 2/200\n",
      "175/175 [==============================] - 2s 14ms/step - loss: 0.4265 - binary_accuracy: 0.8015 - val_loss: 0.4022 - val_binary_accuracy: 0.8108\n",
      "Epoch 3/200\n",
      "175/175 [==============================] - 2s 13ms/step - loss: 0.4094 - binary_accuracy: 0.8095 - val_loss: 0.3949 - val_binary_accuracy: 0.8162\n",
      "Epoch 4/200\n",
      "175/175 [==============================] - 2s 14ms/step - loss: 0.3976 - binary_accuracy: 0.8154 - val_loss: 0.3945 - val_binary_accuracy: 0.8178\n",
      "Epoch 5/200\n",
      "175/175 [==============================] - 2s 13ms/step - loss: 0.3926 - binary_accuracy: 0.8178 - val_loss: 0.3874 - val_binary_accuracy: 0.8205\n",
      "Epoch 6/200\n",
      "175/175 [==============================] - 2s 14ms/step - loss: 0.3922 - binary_accuracy: 0.8184 - val_loss: 0.3829 - val_binary_accuracy: 0.8217\n",
      "Epoch 7/200\n",
      "175/175 [==============================] - 2s 14ms/step - loss: 0.3866 - binary_accuracy: 0.8190 - val_loss: 0.3843 - val_binary_accuracy: 0.8252\n",
      "Epoch 8/200\n",
      "175/175 [==============================] - 2s 14ms/step - loss: 0.3859 - binary_accuracy: 0.8208 - val_loss: 0.3832 - val_binary_accuracy: 0.8235\n",
      "Epoch 9/200\n",
      "175/175 [==============================] - 2s 13ms/step - loss: 0.3800 - binary_accuracy: 0.8242 - val_loss: 0.3763 - val_binary_accuracy: 0.8268\n",
      "Epoch 10/200\n",
      "175/175 [==============================] - 2s 14ms/step - loss: 0.3770 - binary_accuracy: 0.8263 - val_loss: 0.3739 - val_binary_accuracy: 0.8299\n",
      "Epoch 11/200\n",
      "175/175 [==============================] - 2s 14ms/step - loss: 0.3745 - binary_accuracy: 0.8256 - val_loss: 0.3725 - val_binary_accuracy: 0.8298\n",
      "Epoch 12/200\n",
      "175/175 [==============================] - 2s 14ms/step - loss: 0.3757 - binary_accuracy: 0.8268 - val_loss: 0.3709 - val_binary_accuracy: 0.8294\n",
      "Epoch 13/200\n",
      "175/175 [==============================] - 2s 14ms/step - loss: 0.3732 - binary_accuracy: 0.8279 - val_loss: 0.3735 - val_binary_accuracy: 0.8288\n",
      "Epoch 14/200\n",
      "175/175 [==============================] - 3s 15ms/step - loss: 0.3679 - binary_accuracy: 0.8300 - val_loss: 0.3726 - val_binary_accuracy: 0.8305\n",
      "Epoch 15/200\n",
      "175/175 [==============================] - 2s 14ms/step - loss: 0.3679 - binary_accuracy: 0.8305 - val_loss: 0.3665 - val_binary_accuracy: 0.8322\n",
      "Epoch 16/200\n",
      "175/175 [==============================] - 2s 14ms/step - loss: 0.3644 - binary_accuracy: 0.8295 - val_loss: 0.3659 - val_binary_accuracy: 0.8316\n",
      "Epoch 17/200\n",
      "175/175 [==============================] - 2s 14ms/step - loss: 0.3669 - binary_accuracy: 0.8280 - val_loss: 0.3688 - val_binary_accuracy: 0.8313\n",
      "Epoch 18/200\n",
      "175/175 [==============================] - 2s 14ms/step - loss: 0.3614 - binary_accuracy: 0.8315 - val_loss: 0.3644 - val_binary_accuracy: 0.8326\n",
      "Epoch 19/200\n",
      "175/175 [==============================] - 2s 13ms/step - loss: 0.3609 - binary_accuracy: 0.8353 - val_loss: 0.3637 - val_binary_accuracy: 0.8330\n",
      "Epoch 20/200\n",
      "175/175 [==============================] - 2s 14ms/step - loss: 0.3605 - binary_accuracy: 0.8338 - val_loss: 0.3654 - val_binary_accuracy: 0.8338\n",
      "Epoch 21/200\n",
      "175/175 [==============================] - 2s 14ms/step - loss: 0.3574 - binary_accuracy: 0.8374 - val_loss: 0.3645 - val_binary_accuracy: 0.8331\n",
      "Epoch 22/200\n",
      "175/175 [==============================] - 2s 14ms/step - loss: 0.3598 - binary_accuracy: 0.8337 - val_loss: 0.3628 - val_binary_accuracy: 0.8322\n",
      "Epoch 23/200\n",
      "175/175 [==============================] - 2s 14ms/step - loss: 0.3532 - binary_accuracy: 0.8363 - val_loss: 0.3595 - val_binary_accuracy: 0.8358\n",
      "Epoch 24/200\n",
      "175/175 [==============================] - 2s 14ms/step - loss: 0.3538 - binary_accuracy: 0.8359 - val_loss: 0.3599 - val_binary_accuracy: 0.8370\n",
      "Epoch 25/200\n",
      "175/175 [==============================] - 2s 14ms/step - loss: 0.3516 - binary_accuracy: 0.8364 - val_loss: 0.3612 - val_binary_accuracy: 0.8349\n",
      "Epoch 26/200\n",
      "175/175 [==============================] - 2s 14ms/step - loss: 0.3564 - binary_accuracy: 0.8355 - val_loss: 0.3566 - val_binary_accuracy: 0.8365\n",
      "Epoch 27/200\n",
      "175/175 [==============================] - 3s 15ms/step - loss: 0.3493 - binary_accuracy: 0.8396 - val_loss: 0.3589 - val_binary_accuracy: 0.8363\n",
      "Epoch 28/200\n",
      "175/175 [==============================] - 2s 14ms/step - loss: 0.3471 - binary_accuracy: 0.8405 - val_loss: 0.3562 - val_binary_accuracy: 0.8376\n",
      "Epoch 29/200\n",
      "175/175 [==============================] - 2s 14ms/step - loss: 0.3462 - binary_accuracy: 0.8398 - val_loss: 0.3554 - val_binary_accuracy: 0.8367\n",
      "Epoch 30/200\n",
      "175/175 [==============================] - 2s 14ms/step - loss: 0.3450 - binary_accuracy: 0.8391 - val_loss: 0.3551 - val_binary_accuracy: 0.8382\n",
      "Epoch 31/200\n",
      "175/175 [==============================] - 2s 14ms/step - loss: 0.3441 - binary_accuracy: 0.8422 - val_loss: 0.3539 - val_binary_accuracy: 0.8380\n",
      "Epoch 32/200\n",
      "175/175 [==============================] - 2s 14ms/step - loss: 0.3436 - binary_accuracy: 0.8418 - val_loss: 0.3550 - val_binary_accuracy: 0.8377\n",
      "Epoch 33/200\n",
      "175/175 [==============================] - 2s 14ms/step - loss: 0.3458 - binary_accuracy: 0.8402 - val_loss: 0.3545 - val_binary_accuracy: 0.8379\n",
      "Epoch 34/200\n",
      "175/175 [==============================] - 2s 14ms/step - loss: 0.3428 - binary_accuracy: 0.8410 - val_loss: 0.3559 - val_binary_accuracy: 0.8389\n",
      "Epoch 35/200\n",
      "175/175 [==============================] - 2s 14ms/step - loss: 0.3427 - binary_accuracy: 0.8417 - val_loss: 0.3548 - val_binary_accuracy: 0.8386\n",
      "Epoch 36/200\n",
      "175/175 [==============================] - 2s 14ms/step - loss: 0.3390 - binary_accuracy: 0.8411 - val_loss: 0.3541 - val_binary_accuracy: 0.8395\n"
     ]
    },
    {
     "data": {
      "text/plain": [
       "<AxesSubplot:title={'center':'Accuracy'}>"
      ]
     },
     "execution_count": 6,
     "metadata": {},
     "output_type": "execute_result"
    },
    {
     "data": {
      "image/png": "[encoded data removed]",
      "text/plain": [
       "<Figure size 432x288 with 1 Axes>"
      ]
     },
     "metadata": {},
     "output_type": "display_data"
    },
    {
     "data": {
      "image/png": "[encoded data removed]",
      "text/plain": [
       "<Figure size 432x288 with 1 Axes>"
      ]
     },
     "metadata": {},
     "output_type": "display_data"
    }
   ],
   "source": [
    "early_stopping = keras.callbacks.EarlyStopping(\n",
    "    patience=5,\n",
    "    min_delta=0.001,\n",
    "    restore_best_weights=True,\n",
    ")\n",
    "history = model.fit(\n",
    "    X_train, y_train,\n",
    "    validation_data=(X_valid, y_valid),\n",
    "    batch_size=512,\n",
    "    epochs=200,\n",
    "    callbacks=[early_stopping],\n",
    ")\n",
    "\n",
    "history_df = pd.DataFrame(history.history)\n",
    "history_df.loc[:, ['loss', 'val_loss']].plot(title=\"Cross-entropy\")\n",
    "history_df.loc[:, ['binary_accuracy', 'val_binary_accuracy']].plot(title=\"Accuracy\")"
   ]
  },
  {
   "cell_type": "markdown",
   "metadata": {
    "papermill": {
     "duration": 0.445893,
     "end_time": "2021-02-13T21:44:00.324201",
     "exception": false,
     "start_time": "2021-02-13T21:43:59.878308",
     "status": "completed"
    },
    "tags": []
   },
   "source": [
    "# 3) Train and Evaluate #\n",
    "\n",
    "\n",
    "What do you think about the learning curves? Does it look like the model underfit or overfit? Was the cross-entropy loss a good stand-in for accuracy?"
   ]
  },
  {
   "cell_type": "code",
   "execution_count": 7,
   "metadata": {
    "execution": {
     "iopub.execute_input": "2021-02-13T21:44:01.219208Z",
     "iopub.status.busy": "2021-02-13T21:44:01.218548Z",
     "iopub.status.idle": "2021-02-13T21:44:01.225006Z",
     "shell.execute_reply": "2021-02-13T21:44:01.225663Z"
    },
    "papermill": {
     "duration": 0.454917,
     "end_time": "2021-02-13T21:44:01.225892",
     "exception": false,
     "start_time": "2021-02-13T21:44:00.770975",
     "status": "completed"
    },
    "tags": []
   },
   "outputs": [
    {
     "data": {
      "application/javascript": [
       "parent.postMessage({\"jupyterEvent\": \"custom.exercise_interaction\", \"data\": {\"outcomeType\": 1, \"valueTowardsCompletion\": 0.3333333333333333, \"interactionType\": 1, \"questionType\": 4, \"questionId\": \"3_Q3\", \"learnToolsVersion\": \"0.3.4\", \"failureMessage\": \"\", \"exceptionClass\": \"\", \"trace\": \"\"}}, \"*\")"
      ],
      "text/plain": [
       "<IPython.core.display.Javascript object>"
      ]
     },
     "metadata": {},
     "output_type": "display_data"
    },
    {
     "data": {
      "text/markdown": [
       "<span style=\"color:#33cc33\">Correct:</span> \n",
       "\n",
       "Though we can see the training loss continuing to fall, the early stopping callback prevented any overfitting. Moreover, the accuracy rose at the same rate as the cross-entropy fell, so it appears that minimizing cross-entropy was a good stand-in. All in all, it looks like this training was a success!"
      ],
      "text/plain": [
       "Correct: \n",
       "\n",
       "Though we can see the training loss continuing to fall, the early stopping callback prevented any overfitting. Moreover, the accuracy rose at the same rate as the cross-entropy fell, so it appears that minimizing cross-entropy was a good stand-in. All in all, it looks like this training was a success!"
      ]
     },
     "metadata": {},
     "output_type": "display_data"
    }
   ],
   "source": [
    "# View the solution (Run this cell to receive credit!)\n",
    "q_3.check()"
   ]
  },
  {
   "cell_type": "markdown",
   "metadata": {
    "papermill": {
     "duration": 0.451207,
     "end_time": "2021-02-13T21:44:02.125585",
     "exception": false,
     "start_time": "2021-02-13T21:44:01.674378",
     "status": "completed"
    },
    "tags": []
   },
   "source": [
    "# Conclusion #\n",
    "\n",
    "Congratulations! You've completed Kaggle's *Introduction to Deep Learning* course!\n",
    "\n",
    "With your new skills you're ready to take on more advanced applications like computer vision and sentiment classification. What would you like to do next?\n",
    "\n",
    "Why not try one of our *Getting Started* competitions?\n",
    "\n",
    "- Classify images with TPUs in [**Petals to the Metal**](https://www.kaggle.com/c/tpu-getting-started)\n",
    "- Create art with GANs in [**I'm Something of a Painter Myself**](https://www.kaggle.com/c/gan-getting-started)\n",
    "- Classify Tweets in [**Real or Not? NLP with Disaster Tweets**](https://www.kaggle.com/c/nlp-getting-started)\n",
    "- Detect contradiction and entailment in [**Contradictory, My Dear Watson**](https://www.kaggle.com/c/contradictory-my-dear-watson)\n",
    "\n",
    "Until next time, Kagglers!"
   ]
  },
  {
   "cell_type": "markdown",
   "metadata": {
    "papermill": {
     "duration": 0.44722,
     "end_time": "2021-02-13T21:44:03.048027",
     "exception": false,
     "start_time": "2021-02-13T21:44:02.600807",
     "status": "completed"
    },
    "tags": []
   },
   "source": [
    "---\n",
    "\n",
    "\n",
    "\n",
    "\n",
    "*Have questions or comments? Visit the [Learn Discussion forum](https://www.kaggle.com/learn-forum/191966) to chat with other Learners.*"
   ]
  }
 ],
 "metadata": {
  "kernelspec": {
   "display_name": "Python 3",
   "language": "python",
   "name": "python3"
  },
  "language_info": {
   "codemirror_mode": {
    "name": "ipython",
    "version": 3
   },
   "file_extension": ".py",
   "mimetype": "text/x-python",
   "name": "python",
   "nbconvert_exporter": "python",
   "pygments_lexer": "ipython3",
   "version": "3.7.9"
  },
  "papermill": {
   "default_parameters": {},
   "duration": 110.204761,
   "end_time": "2021-02-13T21:44:04.708119",
   "environment_variables": {},
   "exception": null,
   "input_path": "__notebook__.ipynb",
   "output_path": "__notebook__.ipynb",
   "parameters": {},
   "start_time": "2021-02-13T21:42:14.503358",
   "version": "2.2.2"
  }
 },
 "nbformat": 4,
 "nbformat_minor": 4
}
